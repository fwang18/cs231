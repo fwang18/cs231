{
 "cells": [
  {
   "cell_type": "markdown",
   "metadata": {},
   "source": [
    "# Softmax exercise\n",
    "\n",
    "*Complete and hand in this completed worksheet (including its outputs and any supporting code outside of the worksheet) with your assignment submission. For more details see the [assignments page](http://vision.stanford.edu/teaching/cs231n/assignments.html) on the course website.*\n",
    "\n",
    "This exercise is analogous to the SVM exercise. You will:\n",
    "\n",
    "- implement a fully-vectorized **loss function** for the Softmax classifier\n",
    "- implement the fully-vectorized expression for its **analytic gradient**\n",
    "- **check your implementation** with numerical gradient\n",
    "- use a validation set to **tune the learning rate and regularization** strength\n",
    "- **optimize** the loss function with **SGD**\n",
    "- **visualize** the final learned weights\n"
   ]
  },
  {
   "cell_type": "code",
   "execution_count": 1,
   "metadata": {
    "collapsed": true
   },
   "outputs": [],
   "source": [
    "import random\n",
    "import numpy as np\n",
    "from cs231n.data_utils import load_CIFAR10\n",
    "import matplotlib.pyplot as plt\n",
    "\n",
    "from __future__ import print_function\n",
    "\n",
    "%matplotlib inline\n",
    "plt.rcParams['figure.figsize'] = (10.0, 8.0) # set default size of plots\n",
    "plt.rcParams['image.interpolation'] = 'nearest'\n",
    "plt.rcParams['image.cmap'] = 'gray'\n",
    "\n",
    "# for auto-reloading extenrnal modules\n",
    "# see http://stackoverflow.com/questions/1907993/autoreload-of-modules-in-ipython\n",
    "%load_ext autoreload\n",
    "%autoreload 2"
   ]
  },
  {
   "cell_type": "code",
   "execution_count": 2,
   "metadata": {},
   "outputs": [
    {
     "name": "stdout",
     "output_type": "stream",
     "text": [
      "Train data shape:  (49000, 3073)\n",
      "Train labels shape:  (49000,)\n",
      "Validation data shape:  (1000, 3073)\n",
      "Validation labels shape:  (1000,)\n",
      "Test data shape:  (1000, 3073)\n",
      "Test labels shape:  (1000,)\n",
      "dev data shape:  (500, 3073)\n",
      "dev labels shape:  (500,)\n"
     ]
    }
   ],
   "source": [
    "def get_CIFAR10_data(num_training=49000, num_validation=1000, num_test=1000, num_dev=500):\n",
    "    \"\"\"\n",
    "    Load the CIFAR-10 dataset from disk and perform preprocessing to prepare\n",
    "    it for the linear classifier. These are the same steps as we used for the\n",
    "    SVM, but condensed to a single function.  \n",
    "    \"\"\"\n",
    "    # Load the raw CIFAR-10 data\n",
    "    cifar10_dir = 'cs231n/datasets/cifar-10-batches-py'\n",
    "    X_train, y_train, X_test, y_test = load_CIFAR10(cifar10_dir)\n",
    "    \n",
    "    # subsample the data\n",
    "    mask = list(range(num_training, num_training + num_validation))\n",
    "    X_val = X_train[mask]\n",
    "    y_val = y_train[mask]\n",
    "    mask = list(range(num_training))\n",
    "    X_train = X_train[mask]\n",
    "    y_train = y_train[mask]\n",
    "    mask = list(range(num_test))\n",
    "    X_test = X_test[mask]\n",
    "    y_test = y_test[mask]\n",
    "    mask = np.random.choice(num_training, num_dev, replace=False)\n",
    "    X_dev = X_train[mask]\n",
    "    y_dev = y_train[mask]\n",
    "    \n",
    "    # Preprocessing: reshape the image data into rows\n",
    "    X_train = np.reshape(X_train, (X_train.shape[0], -1))\n",
    "    X_val = np.reshape(X_val, (X_val.shape[0], -1))\n",
    "    X_test = np.reshape(X_test, (X_test.shape[0], -1))\n",
    "    X_dev = np.reshape(X_dev, (X_dev.shape[0], -1))\n",
    "    \n",
    "    # Normalize the data: subtract the mean image\n",
    "    mean_image = np.mean(X_train, axis = 0)\n",
    "    X_train -= mean_image\n",
    "    X_val -= mean_image\n",
    "    X_test -= mean_image\n",
    "    X_dev -= mean_image\n",
    "    \n",
    "    # add bias dimension and transform into columns\n",
    "    X_train = np.hstack([X_train, np.ones((X_train.shape[0], 1))])\n",
    "    X_val = np.hstack([X_val, np.ones((X_val.shape[0], 1))])\n",
    "    X_test = np.hstack([X_test, np.ones((X_test.shape[0], 1))])\n",
    "    X_dev = np.hstack([X_dev, np.ones((X_dev.shape[0], 1))])\n",
    "    \n",
    "    return X_train, y_train, X_val, y_val, X_test, y_test, X_dev, y_dev\n",
    "\n",
    "\n",
    "# Invoke the above function to get our data.\n",
    "X_train, y_train, X_val, y_val, X_test, y_test, X_dev, y_dev = get_CIFAR10_data()\n",
    "print('Train data shape: ', X_train.shape)\n",
    "print('Train labels shape: ', y_train.shape)\n",
    "print('Validation data shape: ', X_val.shape)\n",
    "print('Validation labels shape: ', y_val.shape)\n",
    "print('Test data shape: ', X_test.shape)\n",
    "print('Test labels shape: ', y_test.shape)\n",
    "print('dev data shape: ', X_dev.shape)\n",
    "print('dev labels shape: ', y_dev.shape)"
   ]
  },
  {
   "cell_type": "markdown",
   "metadata": {},
   "source": [
    "## Softmax Classifier\n",
    "\n",
    "Your code for this section will all be written inside **cs231n/classifiers/softmax.py**. \n"
   ]
  },
  {
   "cell_type": "code",
   "execution_count": 3,
   "metadata": {},
   "outputs": [
    {
     "name": "stdout",
     "output_type": "stream",
     "text": [
      "[[ -1.99843098e+00  -1.45793133e+00   1.24102081e+00 ...,  -1.37624590e+00\n",
      "   -2.30382692e+00  -3.02348435e+00]\n",
      " [ -2.79971562e+00  -1.12551315e+00   1.11972646e+00 ...,  -1.26724185e+00\n",
      "   -3.34563199e+00  -3.80596596e+00]\n",
      " [ -4.22255475e+00  -1.36209489e+00   1.93588190e+00 ...,  -1.06859556e+00\n",
      "   -5.26618024e+00  -5.59206476e+00]\n",
      " ..., \n",
      " [ -1.24544346e-01   6.61432903e-02   3.25515147e-01 ...,  -7.13646939e-01\n",
      "    6.22040509e-01  -1.28513177e+00]\n",
      " [ -1.01823074e+00  -8.62075023e-01   8.10054507e-01 ...,   3.05646231e-01\n",
      "   -1.44657065e+00  -2.20373842e+00]\n",
      " [  1.61843286e-04  -7.36957744e-03  -4.14822132e-03 ...,   2.62298393e-02\n",
      "   -8.02588802e-03  -2.17555646e-02]]\n",
      "loss: 2.323177\n",
      "sanity check: 2.302585\n"
     ]
    }
   ],
   "source": [
    "# First implement the naive softmax loss function with nested loops.\n",
    "# Open the file cs231n/classifiers/softmax.py and implement the\n",
    "# softmax_loss_naive function.\n",
    "\n",
    "from cs231n.classifiers.softmax import softmax_loss_naive\n",
    "import time\n",
    "\n",
    "# Generate a random softmax weight matrix and use it to compute the loss.\n",
    "W = np.random.randn(3073, 10) * 0.0001\n",
    "loss, grad = softmax_loss_naive(W, X_dev, y_dev, 0.0)\n",
    "print(grad)\n",
    "\n",
    "# As a rough sanity check, our loss should be something close to -log(0.1).\n",
    "print('loss: %f' % loss)\n",
    "print('sanity check: %f' % (-np.log(0.1)))"
   ]
  },
  {
   "cell_type": "markdown",
   "metadata": {},
   "source": [
    "## Inline Question 1:\n",
    "Why do we expect our loss to be close to -log(0.1)? Explain briefly.**\n",
    "\n",
    "**Your answer:** *Fill this in*\n"
   ]
  },
  {
   "cell_type": "code",
   "execution_count": 4,
   "metadata": {},
   "outputs": [
    {
     "name": "stdout",
     "output_type": "stream",
     "text": [
      "numerical: -1.124446 analytic: -1.124446, relative error: 1.269729e-08\n",
      "numerical: -0.515105 analytic: -0.515105, relative error: 2.169574e-09\n",
      "numerical: -1.241042 analytic: -1.241042, relative error: 1.178853e-08\n",
      "numerical: -1.878104 analytic: -1.878104, relative error: 1.732220e-09\n",
      "numerical: 0.270578 analytic: 0.270578, relative error: 9.987388e-08\n",
      "numerical: 0.122297 analytic: 0.122297, relative error: 3.791960e-08\n",
      "numerical: -2.274373 analytic: -2.274373, relative error: 6.601292e-09\n",
      "numerical: -0.072730 analytic: -0.072730, relative error: 2.200220e-07\n",
      "numerical: 1.364124 analytic: 1.364124, relative error: 2.765501e-08\n",
      "numerical: -5.072753 analytic: -5.072753, relative error: 7.652933e-09\n",
      "numerical: 0.897441 analytic: 0.897441, relative error: 6.664562e-08\n",
      "numerical: -3.211384 analytic: -3.211384, relative error: 1.277323e-08\n",
      "numerical: -4.025114 analytic: -4.025114, relative error: 2.761227e-08\n",
      "numerical: -1.293200 analytic: -1.293200, relative error: 3.413549e-08\n",
      "numerical: -5.839747 analytic: -5.839746, relative error: 5.635980e-09\n",
      "numerical: -0.430330 analytic: -0.430330, relative error: 2.221119e-08\n",
      "numerical: -0.432180 analytic: -0.432180, relative error: 4.912098e-08\n",
      "numerical: -0.941730 analytic: -0.941730, relative error: 1.351510e-08\n",
      "numerical: 2.645609 analytic: 2.645609, relative error: 1.407154e-08\n",
      "numerical: -0.227792 analytic: -0.227792, relative error: 2.546933e-07\n"
     ]
    }
   ],
   "source": [
    "# Complete the implementation of softmax_loss_naive and implement a (naive)\n",
    "# version of the gradient that uses nested loops.\n",
    "loss, grad = softmax_loss_naive(W, X_dev, y_dev, 0.0)\n",
    "\n",
    "# As we did for the SVM, use numeric gradient checking as a debugging tool.\n",
    "# The numeric gradient should be close to the analytic gradient.\n",
    "from cs231n.gradient_check import grad_check_sparse\n",
    "f = lambda w: softmax_loss_naive(w, X_dev, y_dev, 0.0)[0]\n",
    "grad_numerical = grad_check_sparse(f, W, grad, 10)\n",
    "\n",
    "# similar to SVM case, do another gradient check with regularization\n",
    "loss, grad = softmax_loss_naive(W, X_dev, y_dev, 5e1)\n",
    "f = lambda w: softmax_loss_naive(w, X_dev, y_dev, 5e1)[0]\n",
    "grad_numerical = grad_check_sparse(f, W, grad, 10)"
   ]
  },
  {
   "cell_type": "code",
   "execution_count": 5,
   "metadata": {},
   "outputs": [
    {
     "name": "stdout",
     "output_type": "stream",
     "text": [
      "naive loss: 2.323177e+00 computed in 0.091861s\n",
      "vectorized loss: 2.323177e+00 computed in 0.003998s\n",
      "Loss difference: 0.000000\n",
      "Gradient difference: 0.000000\n"
     ]
    }
   ],
   "source": [
    "# Now that we have a naive implementation of the softmax loss function and its gradient,\n",
    "# implement a vectorized version in softmax_loss_vectorized.\n",
    "# The two versions should compute the same results, but the vectorized version should be\n",
    "# much faster.\n",
    "tic = time.time()\n",
    "loss_naive, grad_naive = softmax_loss_naive(W, X_dev, y_dev, 0.000005)\n",
    "toc = time.time()\n",
    "print('naive loss: %e computed in %fs' % (loss_naive, toc - tic))\n",
    "\n",
    "from cs231n.classifiers.softmax import softmax_loss_vectorized\n",
    "tic = time.time()\n",
    "loss_vectorized, grad_vectorized = softmax_loss_vectorized(W, X_dev, y_dev, 0.000005)\n",
    "toc = time.time()\n",
    "print('vectorized loss: %e computed in %fs' % (loss_vectorized, toc - tic))\n",
    "\n",
    "# As we did for the SVM, we use the Frobenius norm to compare the two versions\n",
    "# of the gradient.\n",
    "grad_difference = np.linalg.norm(grad_naive - grad_vectorized, ord='fro')\n",
    "print('Loss difference: %f' % np.abs(loss_naive - loss_vectorized))\n",
    "print('Gradient difference: %f' % grad_difference)"
   ]
  },
  {
   "cell_type": "code",
   "execution_count": 6,
   "metadata": {},
   "outputs": [
    {
     "name": "stdout",
     "output_type": "stream",
     "text": [
      "iteration 0 / 1500: loss 393.669784\n",
      "iteration 100 / 1500: loss 237.377274\n",
      "iteration 200 / 1500: loss 144.320429\n",
      "iteration 300 / 1500: loss 88.216474\n",
      "iteration 400 / 1500: loss 54.101146\n",
      "iteration 500 / 1500: loss 33.529834\n",
      "iteration 600 / 1500: loss 21.125267\n",
      "iteration 700 / 1500: loss 13.522883\n",
      "iteration 800 / 1500: loss 8.991305\n",
      "iteration 900 / 1500: loss 6.261287\n",
      "iteration 1000 / 1500: loss 4.607737\n",
      "iteration 1100 / 1500: loss 3.554212\n",
      "iteration 1200 / 1500: loss 2.991964\n",
      "iteration 1300 / 1500: loss 2.586839\n",
      "iteration 1400 / 1500: loss 2.314900\n",
      "iteration 0 / 1500: loss 782.991067\n",
      "iteration 100 / 1500: loss 287.268814\n",
      "iteration 200 / 1500: loss 106.346052\n",
      "iteration 300 / 1500: loss 40.234413\n",
      "iteration 400 / 1500: loss 16.047233\n",
      "iteration 500 / 1500: loss 7.171810\n",
      "iteration 600 / 1500: loss 3.957902\n",
      "iteration 700 / 1500: loss 2.756529\n",
      "iteration 800 / 1500: loss 2.344795\n",
      "iteration 900 / 1500: loss 2.151362\n",
      "iteration 1000 / 1500: loss 2.114179\n",
      "iteration 1100 / 1500: loss 2.124354\n",
      "iteration 1200 / 1500: loss 2.058891\n",
      "iteration 1300 / 1500: loss 2.029173\n",
      "iteration 1400 / 1500: loss 2.138297\n",
      "iteration 0 / 1500: loss 387.882732\n",
      "iteration 100 / 1500: loss 32.776434\n",
      "iteration 200 / 1500: loss 4.510539\n",
      "iteration 300 / 1500: loss 2.273305\n",
      "iteration 400 / 1500: loss 2.068685\n",
      "iteration 500 / 1500: loss 2.052258\n",
      "iteration 600 / 1500: loss 1.970964\n",
      "iteration 700 / 1500: loss 2.025582\n",
      "iteration 800 / 1500: loss 2.043353\n",
      "iteration 900 / 1500: loss 2.032737\n",
      "iteration 1000 / 1500: loss 2.030396\n",
      "iteration 1100 / 1500: loss 2.042565\n",
      "iteration 1200 / 1500: loss 1.997396\n",
      "iteration 1300 / 1500: loss 2.051365\n",
      "iteration 1400 / 1500: loss 1.938666\n",
      "iteration 0 / 1500: loss 780.143709\n",
      "iteration 100 / 1500: loss 6.899222\n",
      "iteration 200 / 1500: loss 2.127640\n",
      "iteration 300 / 1500: loss 2.085604\n",
      "iteration 400 / 1500: loss 2.166352\n",
      "iteration 500 / 1500: loss 2.139981\n",
      "iteration 600 / 1500: loss 2.114002\n",
      "iteration 700 / 1500: loss 2.134052\n",
      "iteration 800 / 1500: loss 2.053447\n",
      "iteration 900 / 1500: loss 2.139484\n",
      "iteration 1000 / 1500: loss 2.138965\n",
      "iteration 1100 / 1500: loss 2.097647\n",
      "iteration 1200 / 1500: loss 2.076619\n",
      "iteration 1300 / 1500: loss 2.083717\n",
      "iteration 1400 / 1500: loss 2.027646\n",
      "lr 1.000000e-07 reg 2.500000e+04 train accuracy: 0.352306 val accuracy: 0.361000\n",
      "lr 1.000000e-07 reg 5.000000e+04 train accuracy: 0.330245 val accuracy: 0.342000\n",
      "lr 5.000000e-07 reg 2.500000e+04 train accuracy: 0.351265 val accuracy: 0.372000\n",
      "lr 5.000000e-07 reg 5.000000e+04 train accuracy: 0.324388 val accuracy: 0.336000\n",
      "best validation accuracy achieved during cross-validation: 0.372000\n"
     ]
    }
   ],
   "source": [
    "# Use the validation set to tune hyperparameters (regularization strength and\n",
    "# learning rate). You should experiment with different ranges for the learning\n",
    "# rates and regularization strengths; if you are careful you should be able to\n",
    "# get a classification accuracy of over 0.35 on the validation set.\n",
    "from cs231n.classifiers import Softmax\n",
    "results = {}\n",
    "best_val = -1\n",
    "best_softmax = None\n",
    "learning_rates = [1e-7, 5e-7]\n",
    "regularization_strengths = [2.5e4, 5e4]\n",
    "\n",
    "################################################################################\n",
    "# TODO:                                                                        #\n",
    "# Use the validation set to set the learning rate and regularization strength. #\n",
    "# This should be identical to the validation that you did for the SVM; save    #\n",
    "# the best trained softmax classifer in best_softmax.                          #\n",
    "################################################################################\n",
    "for lr in learning_rates:\n",
    "    for reg in regularization_strengths:\n",
    "        softmax = Softmax()\n",
    "        loss_hist = softmax.train(X_train, y_train, learning_rate=lr, reg=reg,\n",
    "                      num_iters=1500, verbose=True)\n",
    "        y_train_pred = softmax.predict(X_train)\n",
    "        y_val_pred = softmax.predict(X_val)\n",
    "        accu1=np.mean(y_train == y_train_pred)\n",
    "        accu2=np.mean(y_val == y_val_pred)\n",
    "        #print(accu1)\n",
    "        #print(accu2)\n",
    "        results[(lr,reg)]=(accu1,accu2)\n",
    "        \n",
    "        if accu2>best_val:\n",
    "            best_val=accu2\n",
    "            best_softmax=softmax\n",
    "################################################################################\n",
    "#                              END OF YOUR CODE                                #\n",
    "################################################################################\n",
    "    \n",
    "# Print out results.\n",
    "for lr, reg in sorted(results):\n",
    "    train_accuracy, val_accuracy = results[(lr, reg)]\n",
    "    print('lr %e reg %e train accuracy: %f val accuracy: %f' % (\n",
    "                lr, reg, train_accuracy, val_accuracy))\n",
    "    \n",
    "print('best validation accuracy achieved during cross-validation: %f' % best_val)"
   ]
  },
  {
   "cell_type": "code",
   "execution_count": 7,
   "metadata": {},
   "outputs": [
    {
     "name": "stdout",
     "output_type": "stream",
     "text": [
      "softmax on raw pixels final test set accuracy: 0.369000\n"
     ]
    }
   ],
   "source": [
    "# evaluate on test set\n",
    "# Evaluate the best softmax on test set\n",
    "y_test_pred = best_softmax.predict(X_test)\n",
    "test_accuracy = np.mean(y_test == y_test_pred)\n",
    "print('softmax on raw pixels final test set accuracy: %f' % (test_accuracy, ))"
   ]
  },
  {
   "cell_type": "code",
   "execution_count": 8,
   "metadata": {},
   "outputs": [
    {
     "data": {
      "image/png": "[encoded data removed]",
      "text/plain": [
       "<matplotlib.figure.Figure at 0x11489c7f0>"
      ]
     },
     "metadata": {},
     "output_type": "display_data"
    }
   ],
   "source": [
    "# Visualize the learned weights for each class\n",
    "w = best_softmax.W[:-1,:] # strip out the bias\n",
    "w = w.reshape(32, 32, 3, 10)\n",
    "\n",
    "w_min, w_max = np.min(w), np.max(w)\n",
    "\n",
    "classes = ['plane', 'car', 'bird', 'cat', 'deer', 'dog', 'frog', 'horse', 'ship', 'truck']\n",
    "for i in range(10):\n",
    "    plt.subplot(2, 5, i + 1)\n",
    "    \n",
    "    # Rescale the weights to be between 0 and 255\n",
    "    wimg = 255.0 * (w[:, :, :, i].squeeze() - w_min) / (w_max - w_min)\n",
    "    plt.imshow(wimg.astype('uint8'))\n",
    "    plt.axis('off')\n",
    "    plt.title(classes[i])"
   ]
  }
 ],
 "metadata": {
  "kernelspec": {
   "display_name": "Python 3",
   "language": "python",
   "name": "python3"
  },
  "language_info": {
   "codemirror_mode": {
    "name": "ipython",
    "version": 3
   },
   "file_extension": ".py",
   "mimetype": "text/x-python",
   "name": "python",
   "nbconvert_exporter": "python",
   "pygments_lexer": "ipython3",
   "version": "3.6.1"
  }
 },
 "nbformat": 4,
 "nbformat_minor": 1
}
